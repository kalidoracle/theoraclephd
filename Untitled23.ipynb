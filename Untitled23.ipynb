{
  "nbformat": 4,
  "nbformat_minor": 0,
  "metadata": {
    "colab": {
      "provenance": [],
      "authorship_tag": "ABX9TyOjRpCk8fnEE7x/v4nCR0ui",
      "include_colab_link": true
    },
    "kernelspec": {
      "name": "python3",
      "display_name": "Python 3"
    },
    "language_info": {
      "name": "python"
    }
  },
  "cells": [
    {
      "cell_type": "markdown",
      "metadata": {
        "id": "view-in-github",
        "colab_type": "text"
      },
      "source": [
        "<a href=\"https://colab.research.google.com/github/kalidoracle/theoraclephd/blob/master/Untitled23.ipynb\" target=\"_parent\"><img src=\"https://colab.research.google.com/assets/colab-badge.svg\" alt=\"Open In Colab\"/></a>"
      ]
    },
    {
      "cell_type": "code",
      "execution_count": 4,
      "metadata": {
        "colab": {
          "base_uri": "https://localhost:8080/"
        },
        "id": "X92F8wl3VzfA",
        "outputId": "791ed744-e29c-479d-bc9c-94b0c4d7abac"
      },
      "outputs": [
        {
          "output_type": "stream",
          "name": "stdout",
          "text": [
            "Looking in indexes: https://pypi.org/simple, https://us-python.pkg.dev/colab-wheels/public/simple/\n",
            "Requirement already satisfied: nltk in /usr/local/lib/python3.9/dist-packages (3.7)\n",
            "Requirement already satisfied: joblib in /usr/local/lib/python3.9/dist-packages (from nltk) (1.1.1)\n",
            "Requirement already satisfied: tqdm in /usr/local/lib/python3.9/dist-packages (from nltk) (4.65.0)\n",
            "Requirement already satisfied: regex>=2021.8.3 in /usr/local/lib/python3.9/dist-packages (from nltk) (2022.6.2)\n",
            "Requirement already satisfied: click in /usr/local/lib/python3.9/dist-packages (from nltk) (8.1.3)\n"
          ]
        }
      ],
      "source": [
        "#pip install nltk"
      ]
    },
    {
      "cell_type": "code",
      "source": [
        "import nltk"
      ],
      "metadata": {
        "id": "tzcRc3hEWYhR"
      },
      "execution_count": 5,
      "outputs": []
    },
    {
      "cell_type": "code",
      "source": [
        "#nltk.download()"
      ],
      "metadata": {
        "id": "hTLNnIJqWO9L"
      },
      "execution_count": 10,
      "outputs": []
    },
    {
      "cell_type": "code",
      "source": [
        "nltk.download('punkt')"
      ],
      "metadata": {
        "colab": {
          "base_uri": "https://localhost:8080/"
        },
        "id": "2LXEp9d6WIoB",
        "outputId": "cd194e0b-97cf-4285-a501-fde1bee06399"
      },
      "execution_count": 7,
      "outputs": [
        {
          "output_type": "stream",
          "name": "stderr",
          "text": [
            "[nltk_data] Downloading package punkt to /root/nltk_data...\n",
            "[nltk_data]   Unzipping tokenizers/punkt.zip.\n"
          ]
        },
        {
          "output_type": "execute_result",
          "data": {
            "text/plain": [
              "True"
            ]
          },
          "metadata": {},
          "execution_count": 7
        }
      ]
    },
    {
      "cell_type": "code",
      "source": [
        "from nltk.tokenize import sent_tokenize\n",
        "text=\"\"\"Semantic embedding of knowledge graphs has been widely studied and used for prediction and statistical analysis tasks across various \n",
        "domains such as Natural Language Processing and the Semantic Web.\n",
        "However, less attention has been paid to developing robust methods for embedding OWL (Web Ontology Language) ontologies, \n",
        "which contain richer semantic information than plain knowledge graphs, and have been widely adopted in domains such as bioinformatics. In this paper, \n",
        "we propose a random walk and word embedding based ontology embedding method named OWL2Vec*, which encodes the semantics of an OWL ontology by taking into account its graph structure, \n",
        "lexical information and logical constructors. Our empirical evaluation with three real world datasets suggests that OWL2Vec* benefits from these three different aspects of an ontology in class \n",
        "membership prediction and class subsumption prediction tasks. Furthermore, OWL2Vec* often significantly outperforms the state-of-the-art methods in our experiments.\"\"\"\n",
        "tokenized_sent=sent_tokenize(text)\n",
        "print(tokenized_sent)"
      ],
      "metadata": {
        "colab": {
          "base_uri": "https://localhost:8080/"
        },
        "id": "hxVuPt3VWOHh",
        "outputId": "b5808b4e-3c09-492d-92bb-c6dedcba3064"
      },
      "execution_count": 24,
      "outputs": [
        {
          "output_type": "stream",
          "name": "stdout",
          "text": [
            "['Semantic embedding of knowledge graphs has been widely studied and used for prediction and statistical analysis tasks across various \\ndomains such as Natural Language Processing and the Semantic Web.', 'However, less attention has been paid to developing robust methods for embedding OWL (Web Ontology Language) ontologies, \\nwhich contain richer semantic information than plain knowledge graphs, and have been widely adopted in domains such as bioinformatics.', 'In this paper, \\nwe propose a random walk and word embedding based ontology embedding method named OWL2Vec*, which encodes the semantics of an OWL ontology by taking into account its graph structure, \\nlexical information and logical constructors.', 'Our empirical evaluation with three real world datasets suggests that OWL2Vec* benefits from these three different aspects of an ontology in class \\nmembership prediction and class subsumption prediction tasks.', 'Furthermore, OWL2Vec* often significantly outperforms the state-of-the-art methods in our experiments.']\n"
          ]
        }
      ]
    },
    {
      "cell_type": "code",
      "source": [
        "from nltk.tokenize import word_tokenize\n",
        "tokenized_word=word_tokenize(text)\n",
        "print(tokenized_word)"
      ],
      "metadata": {
        "colab": {
          "base_uri": "https://localhost:8080/"
        },
        "id": "lKKW9HpAWgWK",
        "outputId": "c6b85cee-37cc-468d-c87e-15833598827e"
      },
      "execution_count": 26,
      "outputs": [
        {
          "output_type": "stream",
          "name": "stdout",
          "text": [
            "['Semantic', 'embedding', 'of', 'knowledge', 'graphs', 'has', 'been', 'widely', 'studied', 'and', 'used', 'for', 'prediction', 'and', 'statistical', 'analysis', 'tasks', 'across', 'various', 'domains', 'such', 'as', 'Natural', 'Language', 'Processing', 'and', 'the', 'Semantic', 'Web', '.', 'However', ',', 'less', 'attention', 'has', 'been', 'paid', 'to', 'developing', 'robust', 'methods', 'for', 'embedding', 'OWL', '(', 'Web', 'Ontology', 'Language', ')', 'ontologies', ',', 'which', 'contain', 'richer', 'semantic', 'information', 'than', 'plain', 'knowledge', 'graphs', ',', 'and', 'have', 'been', 'widely', 'adopted', 'in', 'domains', 'such', 'as', 'bioinformatics', '.', 'In', 'this', 'paper', ',', 'we', 'propose', 'a', 'random', 'walk', 'and', 'word', 'embedding', 'based', 'ontology', 'embedding', 'method', 'named', 'OWL2Vec', '*', ',', 'which', 'encodes', 'the', 'semantics', 'of', 'an', 'OWL', 'ontology', 'by', 'taking', 'into', 'account', 'its', 'graph', 'structure', ',', 'lexical', 'information', 'and', 'logical', 'constructors', '.', 'Our', 'empirical', 'evaluation', 'with', 'three', 'real', 'world', 'datasets', 'suggests', 'that', 'OWL2Vec', '*', 'benefits', 'from', 'these', 'three', 'different', 'aspects', 'of', 'an', 'ontology', 'in', 'class', 'membership', 'prediction', 'and', 'class', 'subsumption', 'prediction', 'tasks', '.', 'Furthermore', ',', 'OWL2Vec', '*', 'often', 'significantly', 'outperforms', 'the', 'state-of-the-art', 'methods', 'in', 'our', 'experiments', '.']\n"
          ]
        }
      ]
    },
    {
      "cell_type": "code",
      "source": [
        "from nltk.probability import FreqDist\n",
        "fdist=FreqDist(tokenized_word)\n",
        "print(fdist)"
      ],
      "metadata": {
        "colab": {
          "base_uri": "https://localhost:8080/"
        },
        "id": "EmSYw0Az-4NI",
        "outputId": "7a741d50-1f09-4b9d-e9be-6ac19e8945a5"
      },
      "execution_count": 27,
      "outputs": [
        {
          "output_type": "stream",
          "name": "stdout",
          "text": [
            "<FreqDist with 105 samples and 159 outcomes>\n"
          ]
        }
      ]
    },
    {
      "cell_type": "code",
      "source": [
        "fdist.most_common(2)"
      ],
      "metadata": {
        "colab": {
          "base_uri": "https://localhost:8080/"
        },
        "id": "PxGBbZpA_Nao",
        "outputId": "f41de0c3-e7bd-422b-e1d7-bfcde97bec08"
      },
      "execution_count": 28,
      "outputs": [
        {
          "output_type": "execute_result",
          "data": {
            "text/plain": [
              "[('and', 7), (',', 7)]"
            ]
          },
          "metadata": {},
          "execution_count": 28
        }
      ]
    },
    {
      "cell_type": "code",
      "source": [
        "import matplotlib.pyplot as plt\n",
        "fdist.plot(30,cumulative=False)\n",
        "plt.show()"
      ],
      "metadata": {
        "colab": {
          "base_uri": "https://localhost:8080/",
          "height": 327
        },
        "id": "62JfpIcT_Z1A",
        "outputId": "754257ad-bc27-419c-e420-334478fcad39"
      },
      "execution_count": 29,
      "outputs": [
        {
          "output_type": "display_data",
          "data": {
            "text/plain": [
              "<Figure size 432x288 with 1 Axes>"
            ],
            "image/png": "[encoded data removed]"
          },
          "metadata": {
            "needs_background": "light"
          }
        }
      ]
    },
    {
      "cell_type": "code",
      "source": [
        "#nltk.download('stopwords')"
      ],
      "metadata": {
        "colab": {
          "base_uri": "https://localhost:8080/"
        },
        "id": "mN1MK-abAZGw",
        "outputId": "fd442651-a425-43f5-f1d4-e8ad0f67d553"
      },
      "execution_count": 30,
      "outputs": [
        {
          "output_type": "stream",
          "name": "stderr",
          "text": [
            "[nltk_data] Downloading package stopwords to /root/nltk_data...\n",
            "[nltk_data]   Package stopwords is already up-to-date!\n"
          ]
        },
        {
          "output_type": "execute_result",
          "data": {
            "text/plain": [
              "True"
            ]
          },
          "metadata": {},
          "execution_count": 30
        }
      ]
    },
    {
      "cell_type": "code",
      "source": [
        "from nltk.corpus import stopwords\n",
        "stop_words=set(stopwords.words(\"english\"))\n",
        "print(stop_words)"
      ],
      "metadata": {
        "colab": {
          "base_uri": "https://localhost:8080/"
        },
        "id": "Ppm3ucv6_uaS",
        "outputId": "b95307dd-74eb-4b32-9aa7-e0e22a2e2830"
      },
      "execution_count": 31,
      "outputs": [
        {
          "output_type": "stream",
          "name": "stdout",
          "text": [
            "{'as', 't', \"didn't\", 'on', 's', \"you'd\", 'below', \"mustn't\", 'down', 'aren', 'couldn', 'most', 'each', \"it's\", 'just', 'll', 'up', 'this', \"won't\", 'both', 're', \"couldn't\", 'mightn', 'at', 'then', 'all', 'out', 'by', \"that'll\", 'against', 'myself', 'for', 'shouldn', \"shan't\", 'further', 'hasn', 'in', 'any', 'during', \"haven't\", 'didn', \"you're\", 'she', 'no', 'does', 'with', 'will', 'an', 'yourself', 'a', 'only', 'be', 'that', 'its', 'between', 'ourselves', 'about', 'yours', 'his', 'or', 'when', 'am', 'which', 'he', \"mightn't\", 'i', 'our', 'if', 'whom', 'y', 'wasn', 'their', 'won', 'itself', \"you'll\", 'd', 'do', \"aren't\", 'your', 'some', 'me', \"wouldn't\", 'under', 'doesn', 'over', 'who', \"needn't\", 'needn', 'once', 'is', 'from', 'should', 'they', 'are', 'to', 'after', 'of', 'and', 'herself', 'too', 'until', 'ours', \"you've\", \"hadn't\", 'so', 'himself', 'have', \"hasn't\", 'hers', 'her', 'm', 'off', 'these', 'but', 'doing', 'having', 'than', \"she's\", 'before', 'themselves', 'there', 'nor', 'through', 'ma', 'own', 'has', 'had', 'wouldn', 'can', 'weren', 'how', 'yourselves', 'because', 'why', 've', 'we', 'such', 'other', 'hadn', 'being', 'same', 'ain', 'him', 'them', 'isn', \"weren't\", 'here', 'while', 'shan', \"should've\", 'haven', \"shouldn't\", 'above', 'o', \"don't\", 'where', 'did', 'not', 'mustn', \"wasn't\", 'few', 'it', 'been', 'again', 'now', 'don', 'those', 'the', 'very', 'you', 'my', \"isn't\", 'was', 'were', \"doesn't\", 'theirs', 'into', 'more', 'what'}\n"
          ]
        }
      ]
    },
    {
      "cell_type": "code",
      "source": [
        "filtered_sent=[]\n",
        "for w in tokenized_word:\n",
        "  if w not in stop_words:\n",
        "    filtered_sent.append(w)\n",
        "print(\"Tokenized Sentence:\", tokenized_word)\n",
        "print(\"filtered Sentence:\", filtered_sent)"
      ],
      "metadata": {
        "colab": {
          "base_uri": "https://localhost:8080/"
        },
        "id": "CbYqlMSJAcaw",
        "outputId": "9d888229-2b90-4257-e379-b121e77986b5"
      },
      "execution_count": 32,
      "outputs": [
        {
          "output_type": "stream",
          "name": "stdout",
          "text": [
            "Tokenized Sentence: ['Semantic', 'embedding', 'of', 'knowledge', 'graphs', 'has', 'been', 'widely', 'studied', 'and', 'used', 'for', 'prediction', 'and', 'statistical', 'analysis', 'tasks', 'across', 'various', 'domains', 'such', 'as', 'Natural', 'Language', 'Processing', 'and', 'the', 'Semantic', 'Web', '.', 'However', ',', 'less', 'attention', 'has', 'been', 'paid', 'to', 'developing', 'robust', 'methods', 'for', 'embedding', 'OWL', '(', 'Web', 'Ontology', 'Language', ')', 'ontologies', ',', 'which', 'contain', 'richer', 'semantic', 'information', 'than', 'plain', 'knowledge', 'graphs', ',', 'and', 'have', 'been', 'widely', 'adopted', 'in', 'domains', 'such', 'as', 'bioinformatics', '.', 'In', 'this', 'paper', ',', 'we', 'propose', 'a', 'random', 'walk', 'and', 'word', 'embedding', 'based', 'ontology', 'embedding', 'method', 'named', 'OWL2Vec', '*', ',', 'which', 'encodes', 'the', 'semantics', 'of', 'an', 'OWL', 'ontology', 'by', 'taking', 'into', 'account', 'its', 'graph', 'structure', ',', 'lexical', 'information', 'and', 'logical', 'constructors', '.', 'Our', 'empirical', 'evaluation', 'with', 'three', 'real', 'world', 'datasets', 'suggests', 'that', 'OWL2Vec', '*', 'benefits', 'from', 'these', 'three', 'different', 'aspects', 'of', 'an', 'ontology', 'in', 'class', 'membership', 'prediction', 'and', 'class', 'subsumption', 'prediction', 'tasks', '.', 'Furthermore', ',', 'OWL2Vec', '*', 'often', 'significantly', 'outperforms', 'the', 'state-of-the-art', 'methods', 'in', 'our', 'experiments', '.']\n",
            "filtered Sentence: ['Semantic', 'embedding', 'knowledge', 'graphs', 'widely', 'studied', 'used', 'prediction', 'statistical', 'analysis', 'tasks', 'across', 'various', 'domains', 'Natural', 'Language', 'Processing', 'Semantic', 'Web', '.', 'However', ',', 'less', 'attention', 'paid', 'developing', 'robust', 'methods', 'embedding', 'OWL', '(', 'Web', 'Ontology', 'Language', ')', 'ontologies', ',', 'contain', 'richer', 'semantic', 'information', 'plain', 'knowledge', 'graphs', ',', 'widely', 'adopted', 'domains', 'bioinformatics', '.', 'In', 'paper', ',', 'propose', 'random', 'walk', 'word', 'embedding', 'based', 'ontology', 'embedding', 'method', 'named', 'OWL2Vec', '*', ',', 'encodes', 'semantics', 'OWL', 'ontology', 'taking', 'account', 'graph', 'structure', ',', 'lexical', 'information', 'logical', 'constructors', '.', 'Our', 'empirical', 'evaluation', 'three', 'real', 'world', 'datasets', 'suggests', 'OWL2Vec', '*', 'benefits', 'three', 'different', 'aspects', 'ontology', 'class', 'membership', 'prediction', 'class', 'subsumption', 'prediction', 'tasks', '.', 'Furthermore', ',', 'OWL2Vec', '*', 'often', 'significantly', 'outperforms', 'state-of-the-art', 'methods', 'experiments', '.']\n"
          ]
        }
      ]
    },
    {
      "cell_type": "code",
      "source": [
        "sent=\"Semantic embedding of knowledge graphs has been widely studied and used for prediction and statistical analysis tasks across various domains such as Natural Language Processing and the Semantic Web. However, less attention has been paid to developing robust methods for embedding OWL (Web Ontology Language) ontologies, which contain richer semantic information than plain knowledge graphs, and have been widely adopted in domains such as bioinformatics. In this paper, we propose a random walk and word embedding based ontology embedding method named OWL2Vec*, which encodes the semantics of an OWL ontology by taking into account its graph structure, lexical information and logical constructors. Our empirical evaluation with three real world datasets suggests that OWL2Vec* benefits from these three different aspects of an ontology in class membership prediction and class subsumption prediction tasks. Furthermore, OWL2Vec* often significantly outperforms the state-of-the-art methods in our experiments.\""
      ],
      "metadata": {
        "id": "fz-GH92XDUeF"
      },
      "execution_count": 34,
      "outputs": []
    },
    {
      "cell_type": "code",
      "source": [
        "tokens=nltk.word_tokenize(sent)\n",
        "print(tokens)"
      ],
      "metadata": {
        "colab": {
          "base_uri": "https://localhost:8080/"
        },
        "id": "9AhhGTrGBKNS",
        "outputId": "d65cedcf-188f-44d2-c657-ebb6707001d0"
      },
      "execution_count": 38,
      "outputs": [
        {
          "output_type": "stream",
          "name": "stdout",
          "text": [
            "['Semantic', 'embedding', 'of', 'knowledge', 'graphs', 'has', 'been', 'widely', 'studied', 'and', 'used', 'for', 'prediction', 'and', 'statistical', 'analysis', 'tasks', 'across', 'various', 'domains', 'such', 'as', 'Natural', 'Language', 'Processing', 'and', 'the', 'Semantic', 'Web', '.', 'However', ',', 'less', 'attention', 'has', 'been', 'paid', 'to', 'developing', 'robust', 'methods', 'for', 'embedding', 'OWL', '(', 'Web', 'Ontology', 'Language', ')', 'ontologies', ',', 'which', 'contain', 'richer', 'semantic', 'information', 'than', 'plain', 'knowledge', 'graphs', ',', 'and', 'have', 'been', 'widely', 'adopted', 'in', 'domains', 'such', 'as', 'bioinformatics', '.', 'In', 'this', 'paper', ',', 'we', 'propose', 'a', 'random', 'walk', 'and', 'word', 'embedding', 'based', 'ontology', 'embedding', 'method', 'named', 'OWL2Vec', '*', ',', 'which', 'encodes', 'the', 'semantics', 'of', 'an', 'OWL', 'ontology', 'by', 'taking', 'into', 'account', 'its', 'graph', 'structure', ',', 'lexical', 'information', 'and', 'logical', 'constructors', '.', 'Our', 'empirical', 'evaluation', 'with', 'three', 'real', 'world', 'datasets', 'suggests', 'that', 'OWL2Vec', '*', 'benefits', 'from', 'these', 'three', 'different', 'aspects', 'of', 'an', 'ontology', 'in', 'class', 'membership', 'prediction', 'and', 'class', 'subsumption', 'prediction', 'tasks', '.', 'Furthermore', ',', 'OWL2Vec', '*', 'often', 'significantly', 'outperforms', 'the', 'state-of-the-art', 'methods', 'in', 'our', 'experiments', '.']\n"
          ]
        }
      ]
    },
    {
      "cell_type": "code",
      "source": [
        "nltk.pos_tag(tokens)"
      ],
      "metadata": {
        "colab": {
          "base_uri": "https://localhost:8080/"
        },
        "id": "FSQevbu6FBQM",
        "outputId": "64b808d1-8b86-4453-a532-0cc547071c49"
      },
      "execution_count": 40,
      "outputs": [
        {
          "output_type": "error",
          "ename": "LookupError",
          "evalue": "ignored",
          "traceback": [
            "\u001b[0;31m---------------------------------------------------------------------------\u001b[0m",
            "\u001b[0;31mLookupError\u001b[0m                               Traceback (most recent call last)",
            "\u001b[0;32m<ipython-input-40-d3ab67a198cd>\u001b[0m in \u001b[0;36m<module>\u001b[0;34m\u001b[0m\n\u001b[0;32m----> 1\u001b[0;31m \u001b[0mnltk\u001b[0m\u001b[0;34m.\u001b[0m\u001b[0mpos_tag\u001b[0m\u001b[0;34m(\u001b[0m\u001b[0mtokens\u001b[0m\u001b[0;34m)\u001b[0m\u001b[0;34m\u001b[0m\u001b[0;34m\u001b[0m\u001b[0m\n\u001b[0m",
            "\u001b[0;32m/usr/local/lib/python3.9/dist-packages/nltk/tag/__init__.py\u001b[0m in \u001b[0;36mpos_tag\u001b[0;34m(tokens, tagset, lang)\u001b[0m\n\u001b[1;32m    163\u001b[0m     \u001b[0;34m:\u001b[0m\u001b[0mrtype\u001b[0m\u001b[0;34m:\u001b[0m \u001b[0mlist\u001b[0m\u001b[0;34m(\u001b[0m\u001b[0mtuple\u001b[0m\u001b[0;34m(\u001b[0m\u001b[0mstr\u001b[0m\u001b[0;34m,\u001b[0m \u001b[0mstr\u001b[0m\u001b[0;34m)\u001b[0m\u001b[0;34m)\u001b[0m\u001b[0;34m\u001b[0m\u001b[0;34m\u001b[0m\u001b[0m\n\u001b[1;32m    164\u001b[0m     \"\"\"\n\u001b[0;32m--> 165\u001b[0;31m     \u001b[0mtagger\u001b[0m \u001b[0;34m=\u001b[0m \u001b[0m_get_tagger\u001b[0m\u001b[0;34m(\u001b[0m\u001b[0mlang\u001b[0m\u001b[0;34m)\u001b[0m\u001b[0;34m\u001b[0m\u001b[0;34m\u001b[0m\u001b[0m\n\u001b[0m\u001b[1;32m    166\u001b[0m     \u001b[0;32mreturn\u001b[0m \u001b[0m_pos_tag\u001b[0m\u001b[0;34m(\u001b[0m\u001b[0mtokens\u001b[0m\u001b[0;34m,\u001b[0m \u001b[0mtagset\u001b[0m\u001b[0;34m,\u001b[0m \u001b[0mtagger\u001b[0m\u001b[0;34m,\u001b[0m \u001b[0mlang\u001b[0m\u001b[0;34m)\u001b[0m\u001b[0;34m\u001b[0m\u001b[0;34m\u001b[0m\u001b[0m\n\u001b[1;32m    167\u001b[0m \u001b[0;34m\u001b[0m\u001b[0m\n",
            "\u001b[0;32m/usr/local/lib/python3.9/dist-packages/nltk/tag/__init__.py\u001b[0m in \u001b[0;36m_get_tagger\u001b[0;34m(lang)\u001b[0m\n\u001b[1;32m    105\u001b[0m         \u001b[0mtagger\u001b[0m\u001b[0;34m.\u001b[0m\u001b[0mload\u001b[0m\u001b[0;34m(\u001b[0m\u001b[0map_russian_model_loc\u001b[0m\u001b[0;34m)\u001b[0m\u001b[0;34m\u001b[0m\u001b[0;34m\u001b[0m\u001b[0m\n\u001b[1;32m    106\u001b[0m     \u001b[0;32melse\u001b[0m\u001b[0;34m:\u001b[0m\u001b[0;34m\u001b[0m\u001b[0;34m\u001b[0m\u001b[0m\n\u001b[0;32m--> 107\u001b[0;31m         \u001b[0mtagger\u001b[0m \u001b[0;34m=\u001b[0m \u001b[0mPerceptronTagger\u001b[0m\u001b[0;34m(\u001b[0m\u001b[0;34m)\u001b[0m\u001b[0;34m\u001b[0m\u001b[0;34m\u001b[0m\u001b[0m\n\u001b[0m\u001b[1;32m    108\u001b[0m     \u001b[0;32mreturn\u001b[0m \u001b[0mtagger\u001b[0m\u001b[0;34m\u001b[0m\u001b[0;34m\u001b[0m\u001b[0m\n\u001b[1;32m    109\u001b[0m \u001b[0;34m\u001b[0m\u001b[0m\n",
            "\u001b[0;32m/usr/local/lib/python3.9/dist-packages/nltk/tag/perceptron.py\u001b[0m in \u001b[0;36m__init__\u001b[0;34m(self, load)\u001b[0m\n\u001b[1;32m    165\u001b[0m         \u001b[0;32mif\u001b[0m \u001b[0mload\u001b[0m\u001b[0;34m:\u001b[0m\u001b[0;34m\u001b[0m\u001b[0;34m\u001b[0m\u001b[0m\n\u001b[1;32m    166\u001b[0m             AP_MODEL_LOC = \"file:\" + str(\n\u001b[0;32m--> 167\u001b[0;31m                 \u001b[0mfind\u001b[0m\u001b[0;34m(\u001b[0m\u001b[0;34m\"taggers/averaged_perceptron_tagger/\"\u001b[0m \u001b[0;34m+\u001b[0m \u001b[0mPICKLE\u001b[0m\u001b[0;34m)\u001b[0m\u001b[0;34m\u001b[0m\u001b[0;34m\u001b[0m\u001b[0m\n\u001b[0m\u001b[1;32m    168\u001b[0m             )\n\u001b[1;32m    169\u001b[0m             \u001b[0mself\u001b[0m\u001b[0;34m.\u001b[0m\u001b[0mload\u001b[0m\u001b[0;34m(\u001b[0m\u001b[0mAP_MODEL_LOC\u001b[0m\u001b[0;34m)\u001b[0m\u001b[0;34m\u001b[0m\u001b[0;34m\u001b[0m\u001b[0m\n",
            "\u001b[0;32m/usr/local/lib/python3.9/dist-packages/nltk/data.py\u001b[0m in \u001b[0;36mfind\u001b[0;34m(resource_name, paths)\u001b[0m\n\u001b[1;32m    581\u001b[0m     \u001b[0msep\u001b[0m \u001b[0;34m=\u001b[0m \u001b[0;34m\"*\"\u001b[0m \u001b[0;34m*\u001b[0m \u001b[0;36m70\u001b[0m\u001b[0;34m\u001b[0m\u001b[0;34m\u001b[0m\u001b[0m\n\u001b[1;32m    582\u001b[0m     \u001b[0mresource_not_found\u001b[0m \u001b[0;34m=\u001b[0m \u001b[0;34mf\"\\n{sep}\\n{msg}\\n{sep}\\n\"\u001b[0m\u001b[0;34m\u001b[0m\u001b[0;34m\u001b[0m\u001b[0m\n\u001b[0;32m--> 583\u001b[0;31m     \u001b[0;32mraise\u001b[0m \u001b[0mLookupError\u001b[0m\u001b[0;34m(\u001b[0m\u001b[0mresource_not_found\u001b[0m\u001b[0;34m)\u001b[0m\u001b[0;34m\u001b[0m\u001b[0;34m\u001b[0m\u001b[0m\n\u001b[0m\u001b[1;32m    584\u001b[0m \u001b[0;34m\u001b[0m\u001b[0m\n\u001b[1;32m    585\u001b[0m \u001b[0;34m\u001b[0m\u001b[0m\n",
            "\u001b[0;31mLookupError\u001b[0m: \n**********************************************************************\n  Resource \u001b[93maveraged_perceptron_tagger\u001b[0m not found.\n  Please use the NLTK Downloader to obtain the resource:\n\n  \u001b[31m>>> import nltk\n  >>> nltk.download('averaged_perceptron_tagger')\n  \u001b[0m\n  For more information see: https://www.nltk.org/data.html\n\n  Attempted to load \u001b[93mtaggers/averaged_perceptron_tagger/averaged_perceptron_tagger.pickle\u001b[0m\n\n  Searched in:\n    - '/root/nltk_data'\n    - '/usr/nltk_data'\n    - '/usr/share/nltk_data'\n    - '/usr/lib/nltk_data'\n    - '/usr/share/nltk_data'\n    - '/usr/local/share/nltk_data'\n    - '/usr/lib/nltk_data'\n    - '/usr/local/lib/nltk_data'\n**********************************************************************\n"
          ]
        }
      ]
    },
    {
      "cell_type": "code",
      "source": [],
      "metadata": {
        "id": "KO6rnS6tHF21"
      },
      "execution_count": null,
      "outputs": []
    }
  ]
}